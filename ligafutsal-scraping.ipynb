{
 "cells": [
  {
   "cell_type": "code",
   "execution_count": 1,
   "id": "133e7dc1",
   "metadata": {},
   "outputs": [],
   "source": [
    "import re\n",
    "import json\n",
    "import requests\n",
    "from bs4 import BeautifulSoup\n",
    "\n",
    "\n",
    "URL = \"https://ligafutsal.com.br/equipes\"\n",
    "\n",
    "\n",
    "def get_url(text):\n",
    "    return re.search(\"(?P<url>https?://[^\\s'\\\"]+)\", text).group(\"url\")\n",
    "\n",
    "def main():\n",
    "    r = requests.get(url=URL)\n",
    "    data = r.content\n",
    "    soup = BeautifulSoup(data, 'html.parser')\n",
    "    equipes = []\n",
    "    for equipe in soup.select('div.team-item > a'):\n",
    "        dEquipe = {\n",
    "            \"logo\": equipe.div.img[\"src\"],\n",
    "            \"nomeCurto\": equipe.find_all('p')[0].get_text(),\n",
    "            \"nome\": equipe.find_all('p')[1].get_text(),\n",
    "        }\n",
    "        time = extrair_time(dEquipe[\"nomeCurto\"])\n",
    "        dEquipe[\"atletas\"] = time\n",
    "        equipes.append(\n",
    "            dEquipe\n",
    "        )\n",
    "    with open('equipes.json', 'w') as fp:\n",
    "        json.dump(equipes, fp)\n",
    "\n",
    "def extrair_time(time):\n",
    "    r = requests.get(url=URL + \"/\" + time)\n",
    "    data = r.content\n",
    "    soup = BeautifulSoup(data, 'html.parser')\n",
    "    posicoes = soup.select(\n",
    "        'ul.filter-athletes.small-12.medium-12.large-12.float-left > li')\n",
    "    atletas = []\n",
    "    for atleta in soup.select('ul.athletes-list.small-12.medium-12.large-12.float-left > li'):\n",
    "        dAtleta = {\n",
    "                \"posicao\": posicoes[int(atleta['position'])-1].get_text(),\n",
    "                \"urlAtleta\": atleta.a[\"href\"],\n",
    "                \"nomeCompleto\": atleta.a[\"href\"].replace('-', ' ').replace('https://ligafutsal.com.br/atletas/', '').replace('/', ''),\n",
    "                \"urlFoto\": get_url(atleta.a.div[\"style\"]),\n",
    "                \"nome\": atleta.find_all('div')[1].find_all('p')[0].get_text(),\n",
    "                \"time\": time\n",
    "            }\n",
    "        atletas.append(\n",
    "            dAtleta\n",
    "        )\n",
    "    return atletas\n",
    "\n",
    "   # print(re.findall(r'<ul class=\"filter\\-athletes',data))\n",
    "main()\n"
   ]
  },
  {
   "cell_type": "code",
   "execution_count": null,
   "id": "0dd94c97",
   "metadata": {},
   "outputs": [],
   "source": []
  }
 ],
 "metadata": {
  "kernelspec": {
   "display_name": "Python 3",
   "language": "python",
   "name": "python3"
  },
  "language_info": {
   "codemirror_mode": {
    "name": "ipython",
    "version": 3
   },
   "file_extension": ".py",
   "mimetype": "text/x-python",
   "name": "python",
   "nbconvert_exporter": "python",
   "pygments_lexer": "ipython3",
   "version": "3.8.8"
  }
 },
 "nbformat": 4,
 "nbformat_minor": 5
}
